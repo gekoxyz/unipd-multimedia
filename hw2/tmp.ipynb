{
 "cells": [
  {
   "cell_type": "code",
   "execution_count": 1,
   "metadata": {},
   "outputs": [
    {
     "data": {
      "text/plain": [
       "<bound method NDFrame.head of            time   size\n",
       "0     25.742769     10\n",
       "1     25.480986     10\n",
       "2     25.097370     10\n",
       "3     25.181532     10\n",
       "4     25.297403     10\n",
       "...         ...    ...\n",
       "1495  26.625633   1472\n",
       "1496  26.921511   1472\n",
       "1497  27.042866   1472\n",
       "1498  27.061462   1472\n",
       "1499  27.226686   1472\n",
       "\n",
       "[1500 rows x 2 columns]>"
      ]
     },
     "execution_count": 1,
     "metadata": {},
     "output_type": "execute_result"
    }
   ],
   "source": [
    "import pandas as pd\n",
    "\n",
    "rtt_out_file = \"rtt_out.csv\"\n",
    "\n",
    "with open(rtt_out_file, 'r') as file:\n",
    "  df = pd.read_csv(file)\n",
    "  file.close()\n",
    "\n",
    "df.head"
   ]
  }
 ],
 "metadata": {
  "kernelspec": {
   "display_name": "Python 3",
   "language": "python",
   "name": "python3"
  },
  "language_info": {
   "codemirror_mode": {
    "name": "ipython",
    "version": 3
   },
   "file_extension": ".py",
   "mimetype": "text/x-python",
   "name": "python",
   "nbconvert_exporter": "python",
   "pygments_lexer": "ipython3",
   "version": "3.11.6"
  }
 },
 "nbformat": 4,
 "nbformat_minor": 2
}
